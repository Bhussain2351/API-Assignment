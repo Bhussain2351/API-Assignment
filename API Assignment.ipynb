{
 "cells": [
  {
   "cell_type": "code",
   "execution_count": null,
   "id": "62967cab-4340-4260-a6c6-27e7df1f543b",
   "metadata": {},
   "outputs": [],
   "source": [
    "#1 Ans. APIs are mechanisms that enable two software components to communicate with each other using a set of definitions and protocols. \n",
    "       #  For example, the weather bureau’s software system contains daily weather data. \n",
    "       # The weather app on your phone “talks” to this system via APIs and shows you daily weather updates on your phone.\n",
    "\n",
    "       # Website may use a Facebook API to allow users to log in using their Facebook account, or to display the user's Facebook feed"
   ]
  },
  {
   "cell_type": "code",
   "execution_count": null,
   "id": "658d818e-78f6-4535-8131-6e10e29950a6",
   "metadata": {},
   "outputs": [],
   "source": [
    "#2 Ans. \n",
    "\n",
    "# Advantages:\n",
    "\n",
    "# Increased Interoperability: API solutions enable different software systems to communicate with each other, regardless of their programming language or platform.\n",
    "# This enhances the interoperability between systems, allowing for the exchange of data and functionality.\n",
    "# Improved Efficiency: API driven infrastructures enable developers to reuse code and functionality from existing software systems, saving time and reducing \n",
    "# the amount of code that needs to be written from scratch.\n",
    "\n",
    "\n",
    "# Disadvantages:\n",
    "\n",
    "# Security Concerns: API infrastructures can be vulnerable to security breaches, such as SQL injection attacks and cross-site scripting (XSS) attacks,\n",
    "# making it crucial to implement security measures to protect against these threats.\n",
    "# Complexity: APIs can be complex, requiring a significant amount of development effort to implement and maintain."
   ]
  },
  {
   "cell_type": "code",
   "execution_count": null,
   "id": "d2c183fc-4b1b-4120-9a14-cfcb95979f66",
   "metadata": {},
   "outputs": [],
   "source": [
    "#3 Ans.\n",
    "\n",
    "# Web applications use APIs to connect user-facing front ends with all-important back-end functionality and data.\n",
    "\n",
    "# API is an interface that exposes an application's data to outside software, whereas web applications are one type of API with stricter requirements. \n",
    "# These requirements include network communication, \n",
    "# SOAP as the primary protocol, and less accessibility for the public. "
   ]
  },
  {
   "cell_type": "code",
   "execution_count": null,
   "id": "c2cd2e69-63fc-4625-b887-bf1280701ffb",
   "metadata": {},
   "outputs": [],
   "source": [
    "#4 Ans\n",
    "\n",
    "# SOAP and REST are two different approaches to API design. The SOAP approach is highly structured and uses XML data format.\n",
    "# REST is more flexible and allows applications to exchange data in multiple formats\n",
    "\n",
    "# SOAP is more complex and verbose than other web service technologies, making it less efficient and slower. \n",
    "# SOAP requires more bandwidth and processing power, making it more expensive to implement."
   ]
  },
  {
   "cell_type": "code",
   "execution_count": null,
   "id": "e54388ce-acb1-4e67-b98d-a57def85c764",
   "metadata": {},
   "outputs": [],
   "source": [
    "# 5 Ans\n",
    "\n",
    "# SOAP and REST are two different approaches to API design. The SOAP approach is highly structured and uses XML data format. \n",
    "# REST is more flexible and allows applications to exchange data in multiple formats."
   ]
  }
 ],
 "metadata": {
  "kernelspec": {
   "display_name": "Python 3 (ipykernel)",
   "language": "python",
   "name": "python3"
  },
  "language_info": {
   "codemirror_mode": {
    "name": "ipython",
    "version": 3
   },
   "file_extension": ".py",
   "mimetype": "text/x-python",
   "name": "python",
   "nbconvert_exporter": "python",
   "pygments_lexer": "ipython3",
   "version": "3.10.8"
  }
 },
 "nbformat": 4,
 "nbformat_minor": 5
}
